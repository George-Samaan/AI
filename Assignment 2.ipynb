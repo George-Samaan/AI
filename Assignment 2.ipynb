{
 "cells": [
  {
   "cell_type": "markdown",
   "metadata": {
    "collapsed": true
   },
   "source": [
    "# Assignment 2\n",
    "Let's test your knowledge!"
   ]
  },
  {
   "cell_type": "markdown",
   "metadata": {},
   "source": [
    "_____\n",
    "**Use <code>for</code>, .split(), and <code>if</code> to create a Statement that will print out words that start with 's':**"
   ]
  },
  {
   "cell_type": "code",
   "execution_count": 1,
   "metadata": {},
   "outputs": [],
   "source": [
    "st = 'Print only the words that start with s in this sentence'"
   ]
  },
  {
   "cell_type": "code",
   "execution_count": 2,
   "metadata": {},
   "outputs": [
    {
     "name": "stdout",
     "output_type": "stream",
     "text": [
      "start\n",
      "s\n",
      "sentence\n"
     ]
    }
   ],
   "source": [
    "#Code here\n",
    "list = st.split()\n",
    "\n",
    "for i in list:\n",
    "    if i.startswith('s'):\n",
    "        print(i)\n",
    "    "
   ]
  },
  {
   "cell_type": "markdown",
   "metadata": {},
   "source": [
    "**Use range() to print all the even numbers from 0 to 10.**"
   ]
  },
  {
   "cell_type": "code",
   "execution_count": 3,
   "metadata": {},
   "outputs": [
    {
     "name": "stdout",
     "output_type": "stream",
     "text": [
      "0\n",
      "2\n",
      "4\n",
      "6\n",
      "8\n",
      "10\n"
     ]
    }
   ],
   "source": [
    "for i in range (0,11):\n",
    "    if i % 2 == 0:\n",
    "        print(i)\n",
    "    "
   ]
  },
  {
   "cell_type": "markdown",
   "metadata": {},
   "source": [
    "___\n",
    "**Use a List Comprehension to create a list of all numbers between 1 and 50 that are divisible by 3.**"
   ]
  },
  {
   "cell_type": "code",
   "execution_count": 4,
   "metadata": {},
   "outputs": [
    {
     "name": "stdout",
     "output_type": "stream",
     "text": [
      "[3, 6, 9, 12, 15, 18, 21, 24, 27, 30, 33, 36, 39, 42, 45, 48]\n"
     ]
    }
   ],
   "source": [
    "#Code Here\n",
    "result =[]\n",
    "for i in range (1 , 51):\n",
    "    if i % 3 == 0:\n",
    "        result.append(i)\n",
    "        \n",
    "print (result)\n",
    "\n",
    "\n",
    "        "
   ]
  },
  {
   "cell_type": "markdown",
   "metadata": {},
   "source": [
    "_____\n",
    "**Go through the string below and if the length of a word is even print \"even!\"**"
   ]
  },
  {
   "cell_type": "code",
   "execution_count": 5,
   "metadata": {},
   "outputs": [],
   "source": [
    "st = 'Print every word in this sentence that has an even number of letters'"
   ]
  },
  {
   "cell_type": "code",
   "execution_count": 6,
   "metadata": {},
   "outputs": [
    {
     "name": "stdout",
     "output_type": "stream",
     "text": [
      "word\n",
      "in\n",
      "this\n",
      "sentence\n",
      "that\n",
      "an\n",
      "even\n",
      "number\n",
      "of\n"
     ]
    }
   ],
   "source": [
    "#Code in this cell\n",
    "new_list= st.split()\n",
    "new_list\n",
    "\n",
    "for i in new_list:\n",
    "    if len(i) %2 == 0:\n",
    "        print(i)\n",
    "    "
   ]
  },
  {
   "cell_type": "markdown",
   "metadata": {},
   "source": [
    "____\n",
    "**Write a program that prints the integers from 1 to 100. But for multiples of three print \"Fizz\" instead of the number, and for the multiples of five print \"Buzz\". For numbers which are multiples of both three and five print \"FizzBuzz\".**"
   ]
  },
  {
   "cell_type": "code",
   "execution_count": 7,
   "metadata": {},
   "outputs": [
    {
     "name": "stdout",
     "output_type": "stream",
     "text": [
      "FIZZBUZZ\n",
      "FIZZBUZZ\n",
      "FIZZ\n",
      "FIZZBUZZ\n",
      "BUZZ\n",
      "FIZZ\n",
      "FIZZBUZZ\n",
      "FIZZBUZZ\n",
      "FIZZ\n",
      "BUZZ\n",
      "FIZZBUZZ\n",
      "FIZZ\n",
      "FIZZBUZZ\n",
      "FIZZBUZZ\n",
      "FIZZ\n",
      "FIZZBUZZ\n",
      "FIZZBUZZ\n",
      "FIZZ\n",
      "FIZZBUZZ\n",
      "BUZZ\n",
      "FIZZ\n",
      "FIZZBUZZ\n",
      "FIZZBUZZ\n",
      "FIZZ\n",
      "BUZZ\n",
      "FIZZBUZZ\n",
      "FIZZ\n",
      "FIZZBUZZ\n",
      "FIZZBUZZ\n",
      "FIZZ\n",
      "FIZZBUZZ\n",
      "FIZZBUZZ\n",
      "FIZZ\n",
      "FIZZBUZZ\n",
      "BUZZ\n",
      "FIZZ\n",
      "FIZZBUZZ\n",
      "FIZZBUZZ\n",
      "FIZZ\n",
      "BUZZ\n",
      "FIZZBUZZ\n",
      "FIZZ\n",
      "FIZZBUZZ\n",
      "FIZZBUZZ\n",
      "FIZZ\n",
      "FIZZBUZZ\n",
      "FIZZBUZZ\n",
      "FIZZ\n",
      "FIZZBUZZ\n",
      "BUZZ\n",
      "FIZZ\n",
      "FIZZBUZZ\n",
      "FIZZBUZZ\n",
      "FIZZ\n",
      "BUZZ\n",
      "FIZZBUZZ\n",
      "FIZZ\n",
      "FIZZBUZZ\n",
      "FIZZBUZZ\n",
      "FIZZ\n",
      "FIZZBUZZ\n",
      "FIZZBUZZ\n",
      "FIZZ\n",
      "FIZZBUZZ\n",
      "BUZZ\n",
      "FIZZ\n",
      "FIZZBUZZ\n",
      "FIZZBUZZ\n",
      "FIZZ\n",
      "BUZZ\n",
      "FIZZBUZZ\n",
      "FIZZ\n",
      "FIZZBUZZ\n",
      "FIZZBUZZ\n",
      "FIZZ\n",
      "FIZZBUZZ\n",
      "FIZZBUZZ\n",
      "FIZZ\n",
      "FIZZBUZZ\n",
      "BUZZ\n",
      "FIZZ\n",
      "FIZZBUZZ\n",
      "FIZZBUZZ\n",
      "FIZZ\n",
      "BUZZ\n",
      "FIZZBUZZ\n",
      "FIZZ\n",
      "FIZZBUZZ\n",
      "FIZZBUZZ\n",
      "FIZZ\n",
      "FIZZBUZZ\n",
      "FIZZBUZZ\n",
      "FIZZ\n",
      "FIZZBUZZ\n",
      "BUZZ\n",
      "FIZZ\n",
      "FIZZBUZZ\n",
      "FIZZBUZZ\n",
      "FIZZ\n",
      "BUZZ\n"
     ]
    }
   ],
   "source": [
    "#Code in this cell\n",
    "for i in range (1 , 101):\n",
    "    if i % 3 == 0:\n",
    "        print (\"FIZZ\")\n",
    "    elif i % 5 ==0:\n",
    "        print(\"BUZZ\")\n",
    "    else:\n",
    "        i % 5 == 0 and i % 3 == 0\n",
    "        print(\"FIZZBUZZ\")\n",
    "        "
   ]
  },
  {
   "cell_type": "markdown",
   "metadata": {},
   "source": [
    "____\n",
    "**Use List Comprehension to create a list of the first letters of every word in the string below:**"
   ]
  },
  {
   "cell_type": "code",
   "execution_count": 8,
   "metadata": {},
   "outputs": [],
   "source": [
    "st = 'Create a list of the first letters of every word in this string'"
   ]
  },
  {
   "cell_type": "code",
   "execution_count": 9,
   "metadata": {},
   "outputs": [
    {
     "name": "stdout",
     "output_type": "stream",
     "text": [
      "['C', 'a', 'l', 'o', 't', 'f', 'l', 'o', 'e', 'w', 'i', 't', 's']\n"
     ]
    }
   ],
   "source": [
    "#Code in this cell\n",
    "result = []\n",
    "list = st.split()\n",
    "\n",
    "for i in list :\n",
    "    result.append(i[0])\n",
    "    \n",
    "print (result)\n",
    "\n"
   ]
  },
  {
   "cell_type": "markdown",
   "metadata": {},
   "source": [
    "### Great Job!"
   ]
  }
 ],
 "metadata": {
  "kernelspec": {
   "display_name": "Python 3",
   "language": "python",
   "name": "python3"
  },
  "language_info": {
   "codemirror_mode": {
    "name": "ipython",
    "version": 3
   },
   "file_extension": ".py",
   "mimetype": "text/x-python",
   "name": "python",
   "nbconvert_exporter": "python",
   "pygments_lexer": "ipython3",
   "version": "3.8.8"
  }
 },
 "nbformat": 4,
 "nbformat_minor": 1
}
